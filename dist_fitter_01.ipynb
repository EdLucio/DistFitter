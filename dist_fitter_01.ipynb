{
 "cells": [
  {
   "cell_type": "code",
   "execution_count": 1698,
   "metadata": {},
   "outputs": [],
   "source": [
    "%matplotlib inline\n",
    "import pandas as pd\n",
    "import numpy as np\n",
    "import matplotlib.pyplot as plt\n",
    "import time\n",
    "import math\n",
    "\n",
    "from scipy import stats\n",
    "\n",
    "import warnings\n",
    "warnings.filterwarnings(\"ignore\")\n",
    "\n",
    "\n",
    "ksN = 100           # Kolmogorov-Smirnov KS test for goodness of fit: samples\n",
    "ALPHA = 0.05        # significance level for hypothesis test"
   ]
  },
  {
   "cell_type": "markdown",
   "metadata": {},
   "source": [
    "# 1. Intro"
   ]
  },
  {
   "cell_type": "code",
   "execution_count": 1699,
   "metadata": {},
   "outputs": [],
   "source": [
    "\n",
    "from scipy.stats import (\n",
    "    norm, beta, expon, gamma, genextreme, logistic, lognorm, triang, uniform, fatiguelife,            \n",
    "    gengamma, gennorm, dweibull, dgamma, gumbel_r, powernorm, rayleigh, weibull_max, weibull_min, \n",
    "    laplace, alpha, genexpon, bradford, betaprime, burr, fisk, genpareto, hypsecant, \n",
    "    halfnorm, halflogistic, invgauss, invgamma, levy, loglaplace, loggamma, maxwell, \n",
    "    mielke, ncx2, ncf, nct, nakagami, pareto, lomax, powerlognorm, powerlaw, rice, \n",
    "    semicircular, trapezoid, rice, invweibull, foldnorm, foldcauchy, cosine, exponpow, \n",
    "    exponweib, wald, wrapcauchy, truncexpon, truncnorm, t, rdist\n",
    "    )\n",
    "\n",
    "\n",
    "distributions = [\n",
    "    norm, beta, expon, gamma, genextreme, logistic, lognorm, triang, uniform, fatiguelife,            \n",
    "    gengamma, gennorm, dweibull, dgamma, gumbel_r, powernorm, rayleigh, weibull_max, weibull_min, \n",
    "    laplace, alpha, genexpon, bradford, betaprime, burr, fisk, genpareto, hypsecant, \n",
    "    halfnorm, halflogistic, invgauss, invgamma, levy, loglaplace, loggamma, maxwell, \n",
    "    mielke, ncx2, ncf, nct, nakagami, pareto, lomax, powerlognorm, powerlaw, rice, \n",
    "    semicircular, trapezoid, rice, invweibull, foldnorm, foldcauchy, cosine, exponpow, \n",
    "    exponweib, wald, wrapcauchy, truncexpon, truncnorm, t, rdist\n",
    "    ]\n"
   ]
  },
  {
   "cell_type": "code",
   "execution_count": 1700,
   "metadata": {},
   "outputs": [
    {
     "name": "stdout",
     "output_type": "stream",
     "text": [
      "number of continuous distributions: 104\n",
      "number of discrete distributions:   19\n"
     ]
    }
   ],
   "source": [
    "dist_continu = [d for d in dir(stats) if\n",
    "                isinstance(getattr(stats, d), stats.rv_continuous)]\n",
    "dist_discrete = [d for d in dir(stats) if\n",
    "                 isinstance(getattr(stats, d), stats.rv_discrete)]\n",
    "print('number of continuous distributions: %d' % len(dist_continu))\n",
    "print('number of discrete distributions:   %d' % len(dist_discrete))"
   ]
  },
  {
   "cell_type": "code",
   "execution_count": 1701,
   "metadata": {},
   "outputs": [
    {
     "name": "stderr",
     "output_type": "stream",
     "text": [
      "No handles with labels found to put in legend.\n"
     ]
    },
    {
     "data": {
      "image/png": "[encoded data removed]",
      "text/plain": [
       "<Figure size 432x288 with 1 Axes>"
      ]
     },
     "metadata": {
      "needs_background": "light"
     },
     "output_type": "display_data"
    }
   ],
   "source": [
    "# example: properties of the beta distribution\n",
    "\n",
    "a, b = 2, 6\n",
    "\n",
    "x = beta.rvs(a, b, size=1000)\n",
    "\n",
    "fig, ax = plt.subplots(1, 1)\n",
    "ax.hist(x, density=True, histtype='stepfilled', alpha=0.2)\n",
    "ax.legend(loc='best', frameon=False)\n",
    "plt.show()\n",
    "pass"
   ]
  },
  {
   "cell_type": "code",
   "execution_count": 1702,
   "metadata": {},
   "outputs": [
    {
     "name": "stdout",
     "output_type": "stream",
     "text": [
      "<class 'scipy.stats._continuous_distns.beta_gen'>\n"
     ]
    }
   ],
   "source": [
    "print(type(beta))"
   ]
  },
  {
   "cell_type": "code",
   "execution_count": 1703,
   "metadata": {},
   "outputs": [
    {
     "name": "stdout",
     "output_type": "stream",
     "text": [
      "mean : 0.250\n",
      "var : 0.021\n",
      "shape a : 0.000\n",
      "shape b : 1.000\n",
      "median : 0.228\n"
     ]
    }
   ],
   "source": [
    "# statistics of the Beta(2,6) distribution\n",
    "m = beta.mean(a,b)\n",
    "v = beta.var(a,b)\n",
    "shp_a = beta.a\n",
    "shp_b = beta.b\n",
    "median = beta.median(a,b)\n",
    "\n",
    "dict_stats = {\"mean\":m, \"var\":v, \"shape a\":shp_a, \"shape b\":shp_b, \"median\":median}\n",
    "_ = [print(k,\":\",f'{v:.3f}') for k,v in dict_stats.items()]"
   ]
  },
  {
   "cell_type": "code",
   "execution_count": 1704,
   "metadata": {},
   "outputs": [
    {
     "name": "stdout",
     "output_type": "stream",
     "text": [
      "mean : 0.250\n",
      "var : 0.021\n",
      "skew : 0.693\n",
      "kurt : 0.109\n"
     ]
    }
   ],
   "source": [
    "# first 4 moments of Beta(2,6)\n",
    "moments_values = beta.stats(a,b, moments=\"mvsk\")\n",
    "\n",
    "moments_names = [\"mean\", \"var\", \"skew\", \"kurt\"]\n",
    "moments = dict(zip(moments_names, moments_values))\n",
    "_ = [print(k,\":\",f'{v:.3f}') for k,v in moments.items()]"
   ]
  },
  {
   "cell_type": "code",
   "execution_count": 1705,
   "metadata": {},
   "outputs": [
    {
     "name": "stdout",
     "output_type": "stream",
     "text": [
      "0.250\n",
      "0.021\n",
      "0.693\n",
      "0.109\n"
     ]
    }
   ],
   "source": [
    "# freeze the distibution as an object with its current parameters, assign it to variable rv\n",
    "\n",
    "rv = beta(a,b)\n",
    "moments = rv.stats(\"mvsk\")\n",
    "_ = [print(f'{v:.3f}') for v in moments]\n"
   ]
  },
  {
   "cell_type": "code",
   "execution_count": 1706,
   "metadata": {},
   "outputs": [
    {
     "data": {
      "image/png": "[encoded data removed]",
      "text/plain": [
       "<Figure size 432x288 with 1 Axes>"
      ]
     },
     "metadata": {
      "needs_background": "light"
     },
     "output_type": "display_data"
    }
   ],
   "source": [
    "# plot the pdf\n",
    "x = np.linspace(rv.ppf(0.01),\n",
    "                rv.ppf(0.99), 100)\n",
    "\n",
    "fig, ax = plt.subplots(1, 1)\n",
    "ax.plot(x, rv.pdf(x), 'r-', lw=5, alpha=0.6, label='beta pdf')\n",
    "pass"
   ]
  },
  {
   "cell_type": "code",
   "execution_count": 1707,
   "metadata": {},
   "outputs": [
    {
     "data": {
      "text/plain": [
       "(0.0, 1.0)"
      ]
     },
     "execution_count": 1707,
     "metadata": {},
     "output_type": "execute_result"
    }
   ],
   "source": [
    "rv.support()"
   ]
  },
  {
   "cell_type": "code",
   "execution_count": 1708,
   "metadata": {},
   "outputs": [
    {
     "data": {
      "text/plain": [
       "(1.0, inf)"
      ]
     },
     "execution_count": 1708,
     "metadata": {},
     "output_type": "execute_result"
    }
   ],
   "source": [
    "gamma(1,1).support()"
   ]
  },
  {
   "cell_type": "code",
   "execution_count": 1709,
   "metadata": {},
   "outputs": [
    {
     "name": "stdout",
     "output_type": "stream",
     "text": [
      "(100.0, 320.0)\n"
     ]
    },
    {
     "data": {
      "image/png": "[encoded data removed]",
      "text/plain": [
       "<Figure size 432x288 with 1 Axes>"
      ]
     },
     "metadata": {
      "needs_background": "light"
     },
     "output_type": "display_data"
    }
   ],
   "source": [
    "# horizontally shift the beta distribution and rescale its right tail to \n",
    "\n",
    "loc, scl = 100, 220\n",
    "rv = beta(a,b, loc,scl)\n",
    "print(rv.support())\n",
    "\n",
    "x = np.linspace(rv.ppf(0.01),\n",
    "                rv.ppf(0.99), 100)\n",
    "\n",
    "fig, ax = plt.subplots(1, 1)\n",
    "ax.plot(x, rv.pdf(x), 'r-', lw=5, alpha=0.6, label='beta pdf')\n",
    "pass"
   ]
  },
  {
   "cell_type": "code",
   "execution_count": 1710,
   "metadata": {},
   "outputs": [
    {
     "name": "stdout",
     "output_type": "stream",
     "text": [
      "mean : 155.000\n",
      "var : 1008.333\n",
      "skew : 0.693\n",
      "kurt : 0.109\n",
      "std : 31.754\n"
     ]
    }
   ],
   "source": [
    "# get the first 4 moments and append the std deviation\n",
    "\n",
    "moments_values = [v.item() for v in rv.stats(moments=\"mvsk\")]\n",
    "moments_values.append(rv.std())\n",
    "moments_names = [\"mean\", \"var\", \"skew\", \"kurt\", \"std\"]\n",
    "\n",
    "moments = dict(zip(moments_names, moments_values))\n",
    "_ = [print(k,\":\",f'{v:.3f}') for k,v in moments.items()]\n"
   ]
  },
  {
   "cell_type": "code",
   "execution_count": 1711,
   "metadata": {},
   "outputs": [
    {
     "data": {
      "image/png": "[encoded data removed]",
      "text/plain": [
       "<Figure size 432x288 with 1 Axes>"
      ]
     },
     "metadata": {
      "needs_background": "light"
     },
     "output_type": "display_data"
    }
   ],
   "source": [
    "# plot the cdf\n",
    "\n",
    "fig, ax = plt.subplots(1, 1)\n",
    "ax.plot(x, rv.cdf(x), 'r-', lw=5, alpha=0.6, label='beta cdf')\n",
    "pass\n"
   ]
  },
  {
   "cell_type": "code",
   "execution_count": 1712,
   "metadata": {},
   "outputs": [
    {
     "data": {
      "image/png": "[encoded data removed]",
      "text/plain": [
       "<Figure size 432x288 with 1 Axes>"
      ]
     },
     "metadata": {
      "needs_background": "light"
     },
     "output_type": "display_data"
    }
   ],
   "source": [
    "# plot the inverse cdf or ppf\n",
    "\n",
    "q = np.linspace(0.0, 1.0, 100)\n",
    "\n",
    "fig, ax = plt.subplots(1, 1)\n",
    "ax.plot(q, rv.ppf(q), 'r-', lw=5, alpha=0.6, label='beta inverse cdf')\n",
    "pass\n"
   ]
  },
  {
   "cell_type": "code",
   "execution_count": 1713,
   "metadata": {},
   "outputs": [
    {
     "name": "stdout",
     "output_type": "stream",
     "text": [
      "100.0 : 0.0000 / 0.0000\n",
      "105.0 : 0.0100 / 0.0039\n",
      "120.0 : 0.1276 / 0.0108\n",
      "150.3 : 0.5000 / 0.0119\n",
      "155.0 : 0.5551 / 0.0113\n",
      "241.5 : 0.9900 / 0.0007\n",
      "300.0 : 1.0000 / 0.0000\n",
      "320.0 : 1.0000 / 0.0000\n"
     ]
    }
   ],
   "source": [
    "# cdf(x) and pdf(x) for selected points x\n",
    "xeval = [100.0, rv.ppf(0.01), 120.0, rv.median(), rv.mean(), rv.ppf(.99), 300.0, 320.0]\n",
    "cdfx = rv.cdf(xeval)\n",
    "pdfx = rv.pdf(xeval)\n",
    "_ = {print(f'{k:.1f}',\":\",f'{c:.4f}',\"/\",f'{p:.4f}') for k,c,p in zip(xeval, cdfx, pdfx)}\n"
   ]
  },
  {
   "cell_type": "code",
   "execution_count": 1714,
   "metadata": {},
   "outputs": [
    {
     "name": "stdout",
     "output_type": "stream",
     "text": [
      "100.000 : 100.000\n",
      "104.986 : 104.986\n",
      "120.000 : 120.000\n",
      "150.268 : 150.268\n",
      "155.000 : 155.000\n",
      "241.540 : 241.540\n",
      "300.000 : 300.000\n",
      "320.000 : 320.000\n"
     ]
    }
   ],
   "source": [
    "# percent point function / quantiles\n",
    "\n",
    "ppfq = rv.ppf(cdfx)\n",
    "\n",
    "_ = {print(f'{x:.3f}',\":\",f'{q:.3f}') for x,q in zip(xeval, ppfq)}\n",
    "assert(all(abs(xeval - ppfq)) < 1e-6)"
   ]
  },
  {
   "cell_type": "markdown",
   "metadata": {},
   "source": [
    "# 2. Fitting a Weibull Distribution to Model Time Till Failure"
   ]
  },
  {
   "cell_type": "code",
   "execution_count": 1715,
   "metadata": {},
   "outputs": [
    {
     "name": "stderr",
     "output_type": "stream",
     "text": [
      "No handles with labels found to put in legend.\n"
     ]
    },
    {
     "data": {
      "image/png": "[encoded data removed]",
      "text/plain": [
       "<Figure size 432x288 with 1 Axes>"
      ]
     },
     "metadata": {
      "needs_background": "light"
     },
     "output_type": "display_data"
    }
   ],
   "source": [
    "# create synthetic observations for lifetime data by generating 1000 Weibull random variates\n",
    "# assume these are expert estimates\n",
    "\n",
    "shp, loc, scl = 1.5, 0, 50000\n",
    "\n",
    "rv = weibull_min(c=shp, loc=loc, scale=scl)\n",
    "\n",
    "data = rv.rvs(1000)\n",
    "\n",
    "fig, ax = plt.subplots(1, 1)\n",
    "ax.hist(data, density=True, histtype='stepfilled', alpha=0.2)\n",
    "ax.legend(loc='best', frameon=False)\n",
    "plt.show()\n",
    "pass"
   ]
  },
  {
   "cell_type": "code",
   "execution_count": 1716,
   "metadata": {},
   "outputs": [
    {
     "data": {
      "text/plain": [
       "1.1056335329791707"
      ]
     },
     "execution_count": 1716,
     "metadata": {},
     "output_type": "execute_result"
    }
   ],
   "source": [
    "stats.skew(data)"
   ]
  },
  {
   "cell_type": "code",
   "execution_count": 1717,
   "metadata": {},
   "outputs": [
    {
     "name": "stdout",
     "output_type": "stream",
     "text": [
      "shape : 1.525\n",
      "loc : 0.000\n",
      "shape : 49839.178\n"
     ]
    }
   ],
   "source": [
    "# distribution fitter and KS test\n",
    "\n",
    "# we decide to fix one of the parameters, the location, at its known value of 0, by entering the keyword 'floc'\n",
    "# if left flexible, a location paramater can exert a massive influence on shape and scale\n",
    "    \n",
    "params = weibull_min.fit(data, floc=0)\n",
    "\n",
    "param_names = [\"shape\", \"loc\", \"shape\"]\n",
    "dict_param = {print(k,\":\",f'{v:.3f}') for k,v in zip(param_names, params)}"
   ]
  },
  {
   "cell_type": "code",
   "execution_count": 1718,
   "metadata": {},
   "outputs": [
    {
     "name": "stdout",
     "output_type": "stream",
     "text": [
      "0.883\n"
     ]
    }
   ],
   "source": [
    "# KS test for goodness of fit: p-value > 0.05 =\n",
    "ks = stats.kstest(data, weibull_min.name, params, ksN)[1]   # return p-value\n",
    "print(f'{ks:.3f}')"
   ]
  },
  {
   "cell_type": "code",
   "execution_count": 1719,
   "metadata": {},
   "outputs": [
    {
     "data": {
      "image/png": "[encoded data removed]",
      "text/plain": [
       "<Figure size 432x288 with 1 Axes>"
      ]
     },
     "metadata": {
      "needs_background": "light"
     },
     "output_type": "display_data"
    }
   ],
   "source": [
    "# plot the actual data and the fitted weibull pdf\n",
    "rv = weibull_min(shp, loc, scl)\n",
    "\n",
    "x = np.linspace(rv.ppf(0.01),\n",
    "                rv.ppf(0.99), 100)\n",
    "\n",
    "fig, ax = plt.subplots(1, 1)\n",
    "ax.hist(data, density=True, histtype='stepfilled', alpha=0.2)\n",
    "ax.plot(x, rv.pdf(x), 'r-', lw=5, alpha=0.6, label='beta pdf')\n",
    "pass"
   ]
  },
  {
   "cell_type": "code",
   "execution_count": 1720,
   "metadata": {},
   "outputs": [
    {
     "name": "stdout",
     "output_type": "stream",
     "text": [
      "45137\n"
     ]
    }
   ],
   "source": [
    "# mean time to failure\n",
    "print(f'{rv.mean():.0f}')"
   ]
  },
  {
   "cell_type": "code",
   "execution_count": 1721,
   "metadata": {},
   "outputs": [
    {
     "name": "stdout",
     "output_type": "stream",
     "text": [
      "at hours : 20000.000\n",
      "% cumulative failures : 0.224\n",
      "surviving % of all components : 0.776\n"
     ]
    }
   ],
   "source": [
    "T = 20000\n",
    "\n",
    "cdfT = rv.cdf(T)           # cumulative failure rate after T hours\n",
    "\n",
    "svfT = 1 - cdfT\n",
    "svfT = rv.sf(T)\n",
    "\n",
    "dict_f = {\"at hours\":T, \"% cumulative failures\":cdfT, \"surviving % of all components\":svfT}\n",
    "_ = [print(k,\":\",f'{v:.3f}') for k,v in dict_f.items()]\n",
    "# svf % of all components will last at least T hours"
   ]
  },
  {
   "cell_type": "code",
   "execution_count": 1722,
   "metadata": {},
   "outputs": [
    {
     "name": "stdout",
     "output_type": "stream",
     "text": [
      "at hours : 10000.000\n",
      "% cumulative failures : 0.086\n",
      "surviving % of all components : 0.914\n"
     ]
    }
   ],
   "source": [
    "T = 10000\n",
    "\n",
    "cdfT = rv.cdf(T)           # cumulative failure rate after T hours\n",
    "\n",
    "svfT = 1 - cdfT\n",
    "svfT = rv.sf(T)\n",
    "\n",
    "dict_f = {\"at hours\":T, \"% cumulative failures\":cdfT, \"surviving % of all components\":svfT}\n",
    "_ = [print(k,\":\",f'{v:.3f}') for k,v in dict_f.items()]\n",
    "# svf % of all components will last at least T hours"
   ]
  },
  {
   "cell_type": "code",
   "execution_count": 1723,
   "metadata": {},
   "outputs": [
    {
     "name": "stdout",
     "output_type": "stream",
     "text": [
      "at hours : 500.000\n",
      "% cumulative failures : 0.001\n",
      "surviving % of all components : 0.999\n"
     ]
    }
   ],
   "source": [
    "T = 500\n",
    "\n",
    "cdfT = rv.cdf(T)           # cumulative failure rate after T hours\n",
    "\n",
    "svfT = 1 - cdfT\n",
    "svfT = rv.sf(T)\n",
    "\n",
    "dict_f = {\"at hours\":T, \"% cumulative failures\":cdfT, \"surviving % of all components\":svfT}\n",
    "_ = [print(k,\":\",f'{v:.3f}') for k,v in dict_f.items()]\n",
    "# svf % of all components will last at least T hours"
   ]
  },
  {
   "cell_type": "code",
   "execution_count": 1724,
   "metadata": {},
   "outputs": [
    {
     "name": "stdout",
     "output_type": "stream",
     "text": [
      "2329 hours\n"
     ]
    }
   ],
   "source": [
    "# time to a cumulative failure rate of 1%\n",
    "\n",
    "q = 0.01\n",
    "ppfq = rv.ppf(q)           \n",
    "\n",
    "print(f'{ppfq:.0f}', \"hours\")"
   ]
  },
  {
   "cell_type": "markdown",
   "metadata": {},
   "source": [
    "# 3. The Auto-Fitter"
   ]
  },
  {
   "cell_type": "code",
   "execution_count": 1725,
   "metadata": {},
   "outputs": [],
   "source": [
    "# KS test for goodness of fit\n",
    "\n",
    "def kstest(data, distname, paramtup):\n",
    "    ks = stats.kstest(data, distname, paramtup, ksN)[1]   # return p-value\n",
    "    return ks             # return p-value\n"
   ]
  },
  {
   "cell_type": "code",
   "execution_count": 1726,
   "metadata": {},
   "outputs": [],
   "source": [
    "# distribution fitter and call to KS test\n",
    "\n",
    "def fitdist(data, dist):    \n",
    "    fitted = dist.fit(data, floc=0.0)\n",
    "    ks = kstest(data, dist.name, fitted)\n",
    "    res = (dist.name, ks, *fitted)\n",
    "    return res"
   ]
  },
  {
   "cell_type": "code",
   "execution_count": 1727,
   "metadata": {},
   "outputs": [
    {
     "data": {
      "text/html": [
       "<div>\n",
       "<style scoped>\n",
       "    .dataframe tbody tr th:only-of-type {\n",
       "        vertical-align: middle;\n",
       "    }\n",
       "\n",
       "    .dataframe tbody tr th {\n",
       "        vertical-align: top;\n",
       "    }\n",
       "\n",
       "    .dataframe thead th {\n",
       "        text-align: right;\n",
       "    }\n",
       "</style>\n",
       "<table border=\"1\" class=\"dataframe\">\n",
       "  <thead>\n",
       "    <tr style=\"text-align: right;\">\n",
       "      <th></th>\n",
       "      <th>distribution</th>\n",
       "      <th>KS p-value</th>\n",
       "      <th>param1</th>\n",
       "      <th>param2</th>\n",
       "      <th>param3</th>\n",
       "      <th>param4</th>\n",
       "      <th>param5</th>\n",
       "      <th>distobj</th>\n",
       "    </tr>\n",
       "  </thead>\n",
       "  <tbody>\n",
       "    <tr>\n",
       "      <th>0</th>\n",
       "      <td>weibull_min</td>\n",
       "      <td>0.883</td>\n",
       "      <td>1.525</td>\n",
       "      <td>0.000</td>\n",
       "      <td>49,839.178</td>\n",
       "      <td>NaN</td>\n",
       "      <td>NaN</td>\n",
       "      <td>&lt;scipy.stats._continuous_distns.weibull_min_ge...</td>\n",
       "    </tr>\n",
       "    <tr>\n",
       "      <th>1</th>\n",
       "      <td>beta</td>\n",
       "      <td>0.552</td>\n",
       "      <td>1.742</td>\n",
       "      <td>10.475</td>\n",
       "      <td>0.000</td>\n",
       "      <td>314,806.815</td>\n",
       "      <td>NaN</td>\n",
       "      <td>&lt;scipy.stats._continuous_distns.beta_gen objec...</td>\n",
       "    </tr>\n",
       "    <tr>\n",
       "      <th>2</th>\n",
       "      <td>burr</td>\n",
       "      <td>0.528</td>\n",
       "      <td>4.025</td>\n",
       "      <td>0.325</td>\n",
       "      <td>0.000</td>\n",
       "      <td>65,946.527</td>\n",
       "      <td>NaN</td>\n",
       "      <td>&lt;scipy.stats._continuous_distns.burr_gen objec...</td>\n",
       "    </tr>\n",
       "    <tr>\n",
       "      <th>3</th>\n",
       "      <td>mielke</td>\n",
       "      <td>0.528</td>\n",
       "      <td>1.310</td>\n",
       "      <td>4.025</td>\n",
       "      <td>0.000</td>\n",
       "      <td>65,946.689</td>\n",
       "      <td>NaN</td>\n",
       "      <td>&lt;scipy.stats._continuous_distns.mielke_gen obj...</td>\n",
       "    </tr>\n",
       "    <tr>\n",
       "      <th>4</th>\n",
       "      <td>ncf</td>\n",
       "      <td>0.441</td>\n",
       "      <td>0.003</td>\n",
       "      <td>37.906</td>\n",
       "      <td>10.706</td>\n",
       "      <td>0.000</td>\n",
       "      <td>10.030</td>\n",
       "      <td>&lt;scipy.stats._continuous_distns.ncf_gen object...</td>\n",
       "    </tr>\n",
       "    <tr>\n",
       "      <th>...</th>\n",
       "      <td>...</td>\n",
       "      <td>...</td>\n",
       "      <td>...</td>\n",
       "      <td>...</td>\n",
       "      <td>...</td>\n",
       "      <td>...</td>\n",
       "      <td>...</td>\n",
       "      <td>...</td>\n",
       "    </tr>\n",
       "    <tr>\n",
       "      <th>56</th>\n",
       "      <td>trapezoid</td>\n",
       "      <td>0.000</td>\n",
       "      <td>1.000</td>\n",
       "      <td>1.000</td>\n",
       "      <td>0.000</td>\n",
       "      <td>208,482.388</td>\n",
       "      <td>NaN</td>\n",
       "      <td>&lt;scipy.stats._continuous_distns.trapezoid_gen ...</td>\n",
       "    </tr>\n",
       "    <tr>\n",
       "      <th>57</th>\n",
       "      <td>exponpow</td>\n",
       "      <td>0.000</td>\n",
       "      <td>1.985</td>\n",
       "      <td>0.000</td>\n",
       "      <td>31.645</td>\n",
       "      <td>NaN</td>\n",
       "      <td>NaN</td>\n",
       "      <td>&lt;scipy.stats._continuous_distns.exponpow_gen o...</td>\n",
       "    </tr>\n",
       "    <tr>\n",
       "      <th>58</th>\n",
       "      <td>alpha</td>\n",
       "      <td>0.000</td>\n",
       "      <td>0.000</td>\n",
       "      <td>0.000</td>\n",
       "      <td>2,185.492</td>\n",
       "      <td>NaN</td>\n",
       "      <td>NaN</td>\n",
       "      <td>&lt;scipy.stats._continuous_distns.alpha_gen obje...</td>\n",
       "    </tr>\n",
       "    <tr>\n",
       "      <th>59</th>\n",
       "      <td>weibull_max</td>\n",
       "      <td>0.000</td>\n",
       "      <td>1.500</td>\n",
       "      <td>0.000</td>\n",
       "      <td>0.000</td>\n",
       "      <td>NaN</td>\n",
       "      <td>NaN</td>\n",
       "      <td>&lt;scipy.stats._continuous_distns.weibull_max_ge...</td>\n",
       "    </tr>\n",
       "    <tr>\n",
       "      <th>60</th>\n",
       "      <td>truncnorm</td>\n",
       "      <td>0.000</td>\n",
       "      <td>1.185</td>\n",
       "      <td>1.327</td>\n",
       "      <td>0.000</td>\n",
       "      <td>0.000</td>\n",
       "      <td>NaN</td>\n",
       "      <td>&lt;scipy.stats._continuous_distns.truncnorm_gen ...</td>\n",
       "    </tr>\n",
       "  </tbody>\n",
       "</table>\n",
       "<p>61 rows × 8 columns</p>\n",
       "</div>"
      ],
      "text/plain": [
       "   distribution  KS p-value  param1  param2     param3      param4  param5  \\\n",
       "0   weibull_min       0.883   1.525   0.000 49,839.178         NaN     NaN   \n",
       "1          beta       0.552   1.742  10.475      0.000 314,806.815     NaN   \n",
       "2          burr       0.528   4.025   0.325      0.000  65,946.527     NaN   \n",
       "3        mielke       0.528   1.310   4.025      0.000  65,946.689     NaN   \n",
       "4           ncf       0.441   0.003  37.906     10.706       0.000  10.030   \n",
       "..          ...         ...     ...     ...        ...         ...     ...   \n",
       "56    trapezoid       0.000   1.000   1.000      0.000 208,482.388     NaN   \n",
       "57     exponpow       0.000   1.985   0.000     31.645         NaN     NaN   \n",
       "58        alpha       0.000   0.000   0.000  2,185.492         NaN     NaN   \n",
       "59  weibull_max       0.000   1.500   0.000      0.000         NaN     NaN   \n",
       "60    truncnorm       0.000   1.185   1.327      0.000       0.000     NaN   \n",
       "\n",
       "                                              distobj  \n",
       "0   <scipy.stats._continuous_distns.weibull_min_ge...  \n",
       "1   <scipy.stats._continuous_distns.beta_gen objec...  \n",
       "2   <scipy.stats._continuous_distns.burr_gen objec...  \n",
       "3   <scipy.stats._continuous_distns.mielke_gen obj...  \n",
       "4   <scipy.stats._continuous_distns.ncf_gen object...  \n",
       "..                                                ...  \n",
       "56  <scipy.stats._continuous_distns.trapezoid_gen ...  \n",
       "57  <scipy.stats._continuous_distns.exponpow_gen o...  \n",
       "58  <scipy.stats._continuous_distns.alpha_gen obje...  \n",
       "59  <scipy.stats._continuous_distns.weibull_max_ge...  \n",
       "60  <scipy.stats._continuous_distns.truncnorm_gen ...  \n",
       "\n",
       "[61 rows x 8 columns]"
      ]
     },
     "execution_count": 1727,
     "metadata": {},
     "output_type": "execute_result"
    }
   ],
   "source": [
    "# call fitting function for all distributions in list\n",
    "res = [fitdist(data,D) for D in distributions]\n",
    "\n",
    "# convert the fitted list of tuples to dataframe\n",
    "pd.options.display.float_format = '{:,.3f}'.format\n",
    "df = pd.DataFrame(res, columns=[\"distribution\", \"KS p-value\", \"param1\", \"param2\", \"param3\", \"param4\", \"param5\"])\n",
    "df[\"distobj\"] = distributions\n",
    "df.sort_values(by=[\"KS p-value\"], inplace=True, ascending=False)\n",
    "df.reset_index(inplace=True)\n",
    "df.drop(\"index\", axis=1, inplace=True)\n",
    "df"
   ]
  },
  {
   "cell_type": "code",
   "execution_count": 1728,
   "metadata": {},
   "outputs": [],
   "source": [
    "\n",
    "def plot_fitted_pdf(df):\n",
    "    \n",
    "    N = len(df)\n",
    "    chrows = math.ceil(N/3)                    # how many rows of charts if 3 in a row\n",
    "    fig, ax = plt.subplots(chrows, 3, figsize=(20, 5 * chrows))\n",
    "    ax = ax.ravel()\n",
    "    dfRV = pd.DataFrame()\n",
    "\n",
    "    for i in df.index:\n",
    "\n",
    "        # D_row = df.iloc[i,:-1]\n",
    "        D_name = df.iloc[i,0]\n",
    "        D = df.iloc[i,7]\n",
    "        KSp = df.iloc[i,1]\n",
    "        params = df.iloc[i,2:7]    \n",
    "        params = [p for p in params if ~np.isnan(p)]\n",
    "\n",
    "        # calibrate x-axis by finding the 1% and 99% quantiles in percent point function\n",
    "        x = np.linspace(\n",
    "                    D.ppf(0.01, *params), \n",
    "                    D.ppf(0.99, *params), 100)\n",
    "\n",
    "        #fig, ax = plt.subplots(1, 1)\n",
    "        # plot histogram of actual observations\n",
    "        ax[i].hist(data, density=True, histtype='stepfilled', alpha=0.2)\n",
    "        # plot fitted distribution\n",
    "        rv = D(*params)\n",
    "        title = f'pdf {D_name}, with p(KS): {KSp:.2f}' \n",
    "        ax[i].plot(x, rv.pdf(x), 'r-', lw=2, label=title)\n",
    "        ax[i].legend(loc=\"upper right\", frameon=False)    \n",
    "\n",
    "        "
   ]
  },
  {
   "cell_type": "code",
   "execution_count": 1729,
   "metadata": {},
   "outputs": [
    {
     "name": "stdout",
     "output_type": "stream",
     "text": [
      "(8, 8)\n",
      "Fitted Distributions with KS p-values > ALPHA:\n"
     ]
    },
    {
     "data": {
      "text/html": [
       "<div>\n",
       "<style scoped>\n",
       "    .dataframe tbody tr th:only-of-type {\n",
       "        vertical-align: middle;\n",
       "    }\n",
       "\n",
       "    .dataframe tbody tr th {\n",
       "        vertical-align: top;\n",
       "    }\n",
       "\n",
       "    .dataframe thead th {\n",
       "        text-align: right;\n",
       "    }\n",
       "</style>\n",
       "<table border=\"1\" class=\"dataframe\">\n",
       "  <thead>\n",
       "    <tr style=\"text-align: right;\">\n",
       "      <th></th>\n",
       "      <th>distribution</th>\n",
       "      <th>KS p-value</th>\n",
       "      <th>param1</th>\n",
       "      <th>param2</th>\n",
       "      <th>param3</th>\n",
       "      <th>param4</th>\n",
       "      <th>param5</th>\n",
       "      <th>distobj</th>\n",
       "    </tr>\n",
       "  </thead>\n",
       "  <tbody>\n",
       "    <tr>\n",
       "      <th>0</th>\n",
       "      <td>weibull_min</td>\n",
       "      <td>0.883</td>\n",
       "      <td>1.525</td>\n",
       "      <td>0.000</td>\n",
       "      <td>49,839.178</td>\n",
       "      <td>NaN</td>\n",
       "      <td>NaN</td>\n",
       "      <td>&lt;scipy.stats._continuous_distns.weibull_min_ge...</td>\n",
       "    </tr>\n",
       "    <tr>\n",
       "      <th>1</th>\n",
       "      <td>beta</td>\n",
       "      <td>0.552</td>\n",
       "      <td>1.742</td>\n",
       "      <td>10.475</td>\n",
       "      <td>0.000</td>\n",
       "      <td>314,806.815</td>\n",
       "      <td>NaN</td>\n",
       "      <td>&lt;scipy.stats._continuous_distns.beta_gen objec...</td>\n",
       "    </tr>\n",
       "    <tr>\n",
       "      <th>2</th>\n",
       "      <td>burr</td>\n",
       "      <td>0.528</td>\n",
       "      <td>4.025</td>\n",
       "      <td>0.325</td>\n",
       "      <td>0.000</td>\n",
       "      <td>65,946.527</td>\n",
       "      <td>NaN</td>\n",
       "      <td>&lt;scipy.stats._continuous_distns.burr_gen objec...</td>\n",
       "    </tr>\n",
       "    <tr>\n",
       "      <th>3</th>\n",
       "      <td>mielke</td>\n",
       "      <td>0.528</td>\n",
       "      <td>1.310</td>\n",
       "      <td>4.025</td>\n",
       "      <td>0.000</td>\n",
       "      <td>65,946.689</td>\n",
       "      <td>NaN</td>\n",
       "      <td>&lt;scipy.stats._continuous_distns.mielke_gen obj...</td>\n",
       "    </tr>\n",
       "    <tr>\n",
       "      <th>4</th>\n",
       "      <td>ncf</td>\n",
       "      <td>0.441</td>\n",
       "      <td>0.003</td>\n",
       "      <td>37.906</td>\n",
       "      <td>10.706</td>\n",
       "      <td>0.000</td>\n",
       "      <td>10.030</td>\n",
       "      <td>&lt;scipy.stats._continuous_distns.ncf_gen object...</td>\n",
       "    </tr>\n",
       "    <tr>\n",
       "      <th>5</th>\n",
       "      <td>nakagami</td>\n",
       "      <td>0.326</td>\n",
       "      <td>0.665</td>\n",
       "      <td>0.000</td>\n",
       "      <td>54,057.857</td>\n",
       "      <td>NaN</td>\n",
       "      <td>NaN</td>\n",
       "      <td>&lt;scipy.stats._continuous_distns.nakagami_gen o...</td>\n",
       "    </tr>\n",
       "    <tr>\n",
       "      <th>6</th>\n",
       "      <td>exponweib</td>\n",
       "      <td>0.318</td>\n",
       "      <td>1.832</td>\n",
       "      <td>1.107</td>\n",
       "      <td>0.000</td>\n",
       "      <td>33,181.632</td>\n",
       "      <td>NaN</td>\n",
       "      <td>&lt;scipy.stats._continuous_distns.exponweib_gen ...</td>\n",
       "    </tr>\n",
       "    <tr>\n",
       "      <th>7</th>\n",
       "      <td>gamma</td>\n",
       "      <td>0.154</td>\n",
       "      <td>1.986</td>\n",
       "      <td>0.000</td>\n",
       "      <td>22,612.325</td>\n",
       "      <td>NaN</td>\n",
       "      <td>NaN</td>\n",
       "      <td>&lt;scipy.stats._continuous_distns.gamma_gen obje...</td>\n",
       "    </tr>\n",
       "  </tbody>\n",
       "</table>\n",
       "</div>"
      ],
      "text/plain": [
       "  distribution  KS p-value  param1  param2     param3      param4  param5  \\\n",
       "0  weibull_min       0.883   1.525   0.000 49,839.178         NaN     NaN   \n",
       "1         beta       0.552   1.742  10.475      0.000 314,806.815     NaN   \n",
       "2         burr       0.528   4.025   0.325      0.000  65,946.527     NaN   \n",
       "3       mielke       0.528   1.310   4.025      0.000  65,946.689     NaN   \n",
       "4          ncf       0.441   0.003  37.906     10.706       0.000  10.030   \n",
       "5     nakagami       0.326   0.665   0.000 54,057.857         NaN     NaN   \n",
       "6    exponweib       0.318   1.832   1.107      0.000  33,181.632     NaN   \n",
       "7        gamma       0.154   1.986   0.000 22,612.325         NaN     NaN   \n",
       "\n",
       "                                             distobj  \n",
       "0  <scipy.stats._continuous_distns.weibull_min_ge...  \n",
       "1  <scipy.stats._continuous_distns.beta_gen objec...  \n",
       "2  <scipy.stats._continuous_distns.burr_gen objec...  \n",
       "3  <scipy.stats._continuous_distns.mielke_gen obj...  \n",
       "4  <scipy.stats._continuous_distns.ncf_gen object...  \n",
       "5  <scipy.stats._continuous_distns.nakagami_gen o...  \n",
       "6  <scipy.stats._continuous_distns.exponweib_gen ...  \n",
       "7  <scipy.stats._continuous_distns.gamma_gen obje...  "
      ]
     },
     "execution_count": 1729,
     "metadata": {},
     "output_type": "execute_result"
    }
   ],
   "source": [
    "# from dataframe, select distributions with high KS p-value\n",
    "df_ks = df.loc[df[\"KS p-value\"] > ALPHA]\n",
    "print(df_ks.shape)\n",
    "print(\"Fitted Distributions with KS p-values > ALPHA:\")\n",
    "df_ks\n"
   ]
  },
  {
   "cell_type": "code",
   "execution_count": 1730,
   "metadata": {},
   "outputs": [
    {
     "data": {
      "image/png": "[encoded data removed]",
      "text/plain": [
       "<Figure size 1440x1080 with 9 Axes>"
      ]
     },
     "metadata": {
      "needs_background": "light"
     },
     "output_type": "display_data"
    }
   ],
   "source": [
    "# call the plotting function\n",
    "plot_fitted_pdf(df_ks)\n",
    "pass"
   ]
  },
  {
   "cell_type": "code",
   "execution_count": 1731,
   "metadata": {},
   "outputs": [
    {
     "data": {
      "text/plain": [
       "distribution                                          weibull_min\n",
       "KS p-value                                                  0.883\n",
       "param1                                                      1.525\n",
       "param2                                                      0.000\n",
       "param3                                                 49,839.178\n",
       "param4                                                        NaN\n",
       "param5                                                        NaN\n",
       "distobj         <scipy.stats._continuous_distns.weibull_min_ge...\n",
       "Name: 0, dtype: object"
      ]
     },
     "execution_count": 1731,
     "metadata": {},
     "output_type": "execute_result"
    }
   ],
   "source": [
    "# fitted distribution with highest p-value of KS test\n",
    "D_opt = df_ks.loc[df_ks[\"KS p-value\"].idxmax()]\n",
    "# D_opt[:-1]\n",
    "D_opt\n"
   ]
  },
  {
   "cell_type": "code",
   "execution_count": 1732,
   "metadata": {},
   "outputs": [
    {
     "name": "stdout",
     "output_type": "stream",
     "text": [
      "weibull_min\n"
     ]
    },
    {
     "data": {
      "text/plain": [
       "[1.525384222021152, 0.0, 49839.17767175549]"
      ]
     },
     "execution_count": 1732,
     "metadata": {},
     "output_type": "execute_result"
    }
   ],
   "source": [
    "# script takes this best fitting distribution and begins to works with it:\n",
    "# parameters\n",
    "\n",
    "print(D_opt.iloc[0])            # name\n",
    "DO = D_opt.iloc[7]              # distribution object\n",
    "\n",
    "params = D_opt.iloc[2:7]    \n",
    "params = [p for p in params if ~np.isnan(p)]\n",
    "params\n"
   ]
  },
  {
   "cell_type": "code",
   "execution_count": 1733,
   "metadata": {},
   "outputs": [
    {
     "name": "stdout",
     "output_type": "stream",
     "text": [
      "mean : 44903.7020\n",
      "variance : 901247858.3014\n",
      "skew : 1.0427\n",
      "kurtosis : 1.2940\n"
     ]
    }
   ],
   "source": [
    "# statistics of the best fitting distribution\n",
    "stats = DO.stats(*params, \"mvsk\")\n",
    "stat_names = [\"mean\", \"variance\", \"skew\", \"kurtosis\"]\n",
    "dict_stats = {k:v for k,v in zip(stat_names, stats)} \n",
    "_ = [print(k,\":\",f'{v:.4f}') for k,v in dict_stats.items()]"
   ]
  },
  {
   "cell_type": "code",
   "execution_count": 1734,
   "metadata": {},
   "outputs": [
    {
     "data": {
      "text/plain": [
       "0.5738388332003941"
      ]
     },
     "execution_count": 1734,
     "metadata": {},
     "output_type": "execute_result"
    }
   ],
   "source": [
    "# CDF of a chosen x, here the mean\n",
    "x = dict_stats[\"mean\"]\n",
    "cdfx = DO.cdf(x, *params)\n",
    "cdfx"
   ]
  },
  {
   "cell_type": "code",
   "execution_count": 1735,
   "metadata": {},
   "outputs": [
    {
     "data": {
      "text/plain": [
       "44903.70200843498"
      ]
     },
     "execution_count": 1735,
     "metadata": {},
     "output_type": "execute_result"
    }
   ],
   "source": [
    "# cross-check: if we insert the CDF's probability in the percent point function ppf,\n",
    "# will we get the mean as the quantile?\n",
    "ppfq = DO.ppf(cdfx, *params)\n",
    "assert abs(ppfq - x) < 1e-9\n",
    "ppfq"
   ]
  },
  {
   "cell_type": "code",
   "execution_count": 1736,
   "metadata": {},
   "outputs": [
    {
     "data": {
      "text/plain": [
       "39194.07435010098"
      ]
     },
     "execution_count": 1736,
     "metadata": {},
     "output_type": "execute_result"
    }
   ],
   "source": [
    "# cross-check: if we insert the CDF's probability in the percent point function ppf,\n",
    "# will we get the mean as the quantile?\n",
    "ppfq = DO.ppf(0.5, *params)\n",
    "ppfq"
   ]
  },
  {
   "cell_type": "code",
   "execution_count": 1737,
   "metadata": {},
   "outputs": [
    {
     "data": {
      "text/plain": [
       "(0.0, inf)"
      ]
     },
     "execution_count": 1737,
     "metadata": {},
     "output_type": "execute_result"
    }
   ],
   "source": [
    "# support [min, max] of distribution:\n",
    "DO.support(*params)"
   ]
  }
 ],
 "metadata": {
  "interpreter": {
   "hash": "b70fa266638dda0426a5eab4dda77c10abfc338a73007e59a14299ee06b27f88"
  },
  "kernelspec": {
   "display_name": "Python 3.8.5 64-bit ('ho03': conda)",
   "name": "python3"
  },
  "language_info": {
   "codemirror_mode": {
    "name": "ipython",
    "version": 3
   },
   "file_extension": ".py",
   "mimetype": "text/x-python",
   "name": "python",
   "nbconvert_exporter": "python",
   "pygments_lexer": "ipython3",
   "version": "3.8.5"
  },
  "orig_nbformat": 4
 },
 "nbformat": 4,
 "nbformat_minor": 2
}
